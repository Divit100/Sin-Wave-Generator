{
  "nbformat": 4,
  "nbformat_minor": 0,
  "metadata": {
    "kernelspec": {
      "display_name": "Python 3",
      "language": "python",
      "name": "python3"
    },
    "language_info": {
      "codemirror_mode": {
        "name": "ipython",
        "version": 3
      },
      "file_extension": ".py",
      "mimetype": "text/x-python",
      "name": "python",
      "nbconvert_exporter": "python",
      "pygments_lexer": "ipython3",
      "version": "3.7.7"
    },
    "colab": {
      "name": "sin_wave_generator________.ipynb",
      "provenance": []
    }
  },
  "cells": [
    {
      "cell_type": "code",
      "metadata": {
        "id": "m70jfKto3500",
        "colab_type": "code",
        "colab": {}
      },
      "source": [
        "import numpy as np\n",
        "import pandas as pd\n",
        "import matplotlib.pyplot as plt\n",
        "%matplotlib inline"
      ],
      "execution_count": null,
      "outputs": []
    },
    {
      "cell_type": "code",
      "metadata": {
        "id": "3LsgVvOy3505",
        "colab_type": "code",
        "colab": {}
      },
      "source": [
        "x=np.linspace(0,50,501)"
      ],
      "execution_count": null,
      "outputs": []
    },
    {
      "cell_type": "code",
      "metadata": {
        "id": "YkaeDzm_3508",
        "colab_type": "code",
        "colab": {}
      },
      "source": [
        "y=np.sin(x)"
      ],
      "execution_count": null,
      "outputs": []
    },
    {
      "cell_type": "code",
      "metadata": {
        "id": "K0zFMHy-350_",
        "colab_type": "code",
        "colab": {}
      },
      "source": [
        "df=pd.DataFrame(data=y,index=x,columns=['Sine Value'])"
      ],
      "execution_count": null,
      "outputs": []
    },
    {
      "cell_type": "code",
      "metadata": {
        "id": "CBCoZCBN351D",
        "colab_type": "code",
        "colab": {},
        "outputId": "86d3a416-fd2d-4771-f452-cd865cdf0ee5"
      },
      "source": [
        "df"
      ],
      "execution_count": null,
      "outputs": [
        {
          "output_type": "execute_result",
          "data": {
            "text/html": [
              "<div>\n",
              "<style scoped>\n",
              "    .dataframe tbody tr th:only-of-type {\n",
              "        vertical-align: middle;\n",
              "    }\n",
              "\n",
              "    .dataframe tbody tr th {\n",
              "        vertical-align: top;\n",
              "    }\n",
              "\n",
              "    .dataframe thead th {\n",
              "        text-align: right;\n",
              "    }\n",
              "</style>\n",
              "<table border=\"1\" class=\"dataframe\">\n",
              "  <thead>\n",
              "    <tr style=\"text-align: right;\">\n",
              "      <th></th>\n",
              "      <th>Sine Value</th>\n",
              "    </tr>\n",
              "  </thead>\n",
              "  <tbody>\n",
              "    <tr>\n",
              "      <th>0.0</th>\n",
              "      <td>0.000000</td>\n",
              "    </tr>\n",
              "    <tr>\n",
              "      <th>0.1</th>\n",
              "      <td>0.099833</td>\n",
              "    </tr>\n",
              "    <tr>\n",
              "      <th>0.2</th>\n",
              "      <td>0.198669</td>\n",
              "    </tr>\n",
              "    <tr>\n",
              "      <th>0.3</th>\n",
              "      <td>0.295520</td>\n",
              "    </tr>\n",
              "    <tr>\n",
              "      <th>0.4</th>\n",
              "      <td>0.389418</td>\n",
              "    </tr>\n",
              "    <tr>\n",
              "      <th>...</th>\n",
              "      <td>...</td>\n",
              "    </tr>\n",
              "    <tr>\n",
              "      <th>49.6</th>\n",
              "      <td>-0.617439</td>\n",
              "    </tr>\n",
              "    <tr>\n",
              "      <th>49.7</th>\n",
              "      <td>-0.535823</td>\n",
              "    </tr>\n",
              "    <tr>\n",
              "      <th>49.8</th>\n",
              "      <td>-0.448854</td>\n",
              "    </tr>\n",
              "    <tr>\n",
              "      <th>49.9</th>\n",
              "      <td>-0.357400</td>\n",
              "    </tr>\n",
              "    <tr>\n",
              "      <th>50.0</th>\n",
              "      <td>-0.262375</td>\n",
              "    </tr>\n",
              "  </tbody>\n",
              "</table>\n",
              "<p>501 rows × 1 columns</p>\n",
              "</div>"
            ],
            "text/plain": [
              "      Sine Value\n",
              "0.0     0.000000\n",
              "0.1     0.099833\n",
              "0.2     0.198669\n",
              "0.3     0.295520\n",
              "0.4     0.389418\n",
              "...          ...\n",
              "49.6   -0.617439\n",
              "49.7   -0.535823\n",
              "49.8   -0.448854\n",
              "49.9   -0.357400\n",
              "50.0   -0.262375\n",
              "\n",
              "[501 rows x 1 columns]"
            ]
          },
          "metadata": {
            "tags": []
          },
          "execution_count": 7
        }
      ]
    },
    {
      "cell_type": "code",
      "metadata": {
        "id": "MDuyD-lE351H",
        "colab_type": "code",
        "colab": {},
        "outputId": "8746cfb6-1893-46c1-93fb-5628d1fab4d6"
      },
      "source": [
        "len(df)"
      ],
      "execution_count": null,
      "outputs": [
        {
          "output_type": "execute_result",
          "data": {
            "text/plain": [
              "501"
            ]
          },
          "metadata": {
            "tags": []
          },
          "execution_count": 11
        }
      ]
    },
    {
      "cell_type": "code",
      "metadata": {
        "id": "O_nyQls8351L",
        "colab_type": "code",
        "colab": {}
      },
      "source": [
        "test_percent=0.1"
      ],
      "execution_count": null,
      "outputs": []
    },
    {
      "cell_type": "code",
      "metadata": {
        "id": "xLtlRFU6351O",
        "colab_type": "code",
        "colab": {}
      },
      "source": [
        "test_point=np.round(len(df)*test_percent)"
      ],
      "execution_count": null,
      "outputs": []
    },
    {
      "cell_type": "code",
      "metadata": {
        "id": "V_ZoOHwr351Q",
        "colab_type": "code",
        "colab": {},
        "outputId": "ef0173a3-c3c3-4caa-cac9-de6fc02bb54d"
      },
      "source": [
        "test_point"
      ],
      "execution_count": null,
      "outputs": [
        {
          "output_type": "execute_result",
          "data": {
            "text/plain": [
              "50.0"
            ]
          },
          "metadata": {
            "tags": []
          },
          "execution_count": 15
        }
      ]
    },
    {
      "cell_type": "code",
      "metadata": {
        "id": "5XZbtAmN351T",
        "colab_type": "code",
        "colab": {}
      },
      "source": [
        "test_index=int(len(df)-test_point)"
      ],
      "execution_count": null,
      "outputs": []
    },
    {
      "cell_type": "code",
      "metadata": {
        "id": "9LCbtcjh351V",
        "colab_type": "code",
        "colab": {},
        "outputId": "02c09dbe-cc83-4a06-b76b-ddab00453545"
      },
      "source": [
        "test_index"
      ],
      "execution_count": null,
      "outputs": [
        {
          "output_type": "execute_result",
          "data": {
            "text/plain": [
              "451"
            ]
          },
          "metadata": {
            "tags": []
          },
          "execution_count": 24
        }
      ]
    },
    {
      "cell_type": "code",
      "metadata": {
        "id": "x3W0kW64351Y",
        "colab_type": "code",
        "colab": {}
      },
      "source": [
        "train=df.iloc[:test_index]"
      ],
      "execution_count": null,
      "outputs": []
    },
    {
      "cell_type": "code",
      "metadata": {
        "id": "4XiluAtC351a",
        "colab_type": "code",
        "colab": {}
      },
      "source": [
        "test=df.iloc[test_index:]"
      ],
      "execution_count": null,
      "outputs": []
    },
    {
      "cell_type": "code",
      "metadata": {
        "id": "jcciSg_f351c",
        "colab_type": "code",
        "colab": {}
      },
      "source": [
        "from sklearn.preprocessing import MinMaxScaler\n"
      ],
      "execution_count": null,
      "outputs": []
    },
    {
      "cell_type": "code",
      "metadata": {
        "id": "ZP9BoAfi351f",
        "colab_type": "code",
        "colab": {}
      },
      "source": [
        "scaler=MinMaxScaler()"
      ],
      "execution_count": null,
      "outputs": []
    },
    {
      "cell_type": "code",
      "metadata": {
        "id": "0oMYRw9N351h",
        "colab_type": "code",
        "colab": {},
        "outputId": "e31e7418-a071-4427-d167-ae636f416e67"
      },
      "source": [
        "scaler.fit(train)"
      ],
      "execution_count": null,
      "outputs": [
        {
          "output_type": "execute_result",
          "data": {
            "text/plain": [
              "MinMaxScaler(copy=True, feature_range=(0, 1))"
            ]
          },
          "metadata": {
            "tags": []
          },
          "execution_count": 34
        }
      ]
    },
    {
      "cell_type": "code",
      "metadata": {
        "id": "SwLshvXL351k",
        "colab_type": "code",
        "colab": {}
      },
      "source": [
        "scaled_train=scaler.transform(train)\n",
        "scaled_test=scaler.transform(test)"
      ],
      "execution_count": null,
      "outputs": []
    },
    {
      "cell_type": "code",
      "metadata": {
        "id": "Q-Oop0u2351m",
        "colab_type": "code",
        "colab": {},
        "outputId": "bead0cc4-3138-49ba-c87a-6d4d80f9a0da"
      },
      "source": [
        "plt.plot(y)"
      ],
      "execution_count": null,
      "outputs": [
        {
          "output_type": "execute_result",
          "data": {
            "text/plain": [
              "[<matplotlib.lines.Line2D at 0x1692f9b6948>]"
            ]
          },
          "metadata": {
            "tags": []
          },
          "execution_count": 36
        },
        {
          "output_type": "display_data",
          "data": {
            "image/png": "[encoded data removed]",
            "text/plain": [
              "<Figure size 432x288 with 1 Axes>"
            ]
          },
          "metadata": {
            "tags": [],
            "needs_background": "light"
          }
        }
      ]
    },
    {
      "cell_type": "code",
      "metadata": {
        "id": "vk0OIO6w351s",
        "colab_type": "code",
        "colab": {}
      },
      "source": [
        "from tensorflow.keras.preprocessing.sequence import TimeseriesGenerator"
      ],
      "execution_count": null,
      "outputs": []
    },
    {
      "cell_type": "code",
      "metadata": {
        "id": "GIMZ0nF-351u",
        "colab_type": "code",
        "colab": {}
      },
      "source": [
        "train_generator=TimeseriesGenerator(data=scaled_train,targets=scaled_train,length=49,batch_size=1)"
      ],
      "execution_count": null,
      "outputs": []
    },
    {
      "cell_type": "code",
      "metadata": {
        "id": "ZRhMbAQ_351w",
        "colab_type": "code",
        "colab": {}
      },
      "source": [
        "test_genertor=TimeseriesGenerator(data=scaled_test,targets=scaled_test,length=49,batch_size=1)"
      ],
      "execution_count": null,
      "outputs": []
    },
    {
      "cell_type": "code",
      "metadata": {
        "id": "lzpfSTOu351z",
        "colab_type": "code",
        "colab": {}
      },
      "source": [
        "from tensorflow.keras.models import Sequential\n",
        "from tensorflow.keras.layers import SimpleRNN,LSTM,Dense"
      ],
      "execution_count": null,
      "outputs": []
    },
    {
      "cell_type": "code",
      "metadata": {
        "id": "7giyaqt93511",
        "colab_type": "code",
        "colab": {}
      },
      "source": [
        "model=Sequential()\n"
      ],
      "execution_count": null,
      "outputs": []
    },
    {
      "cell_type": "code",
      "metadata": {
        "id": "veLTsXcR3513",
        "colab_type": "code",
        "colab": {}
      },
      "source": [
        "model.add(LSTM(49,input_shape=(49,1)))\n",
        "\n",
        "model.add(Dense(1))\n",
        "\n",
        "model.compile(optimizer='adam',loss='mse')"
      ],
      "execution_count": null,
      "outputs": []
    },
    {
      "cell_type": "code",
      "metadata": {
        "id": "JAdC-_h73517",
        "colab_type": "code",
        "colab": {}
      },
      "source": [
        "from tensorflow.keras.callbacks import EarlyStopping"
      ],
      "execution_count": null,
      "outputs": []
    },
    {
      "cell_type": "code",
      "metadata": {
        "id": "jg4QsvDD3519",
        "colab_type": "code",
        "colab": {}
      },
      "source": [
        "early_stop=EarlyStopping(monitor='val_loss',patience=2)"
      ],
      "execution_count": null,
      "outputs": []
    },
    {
      "cell_type": "code",
      "metadata": {
        "id": "jaHwIbsF352A",
        "colab_type": "code",
        "colab": {},
        "outputId": "8b457dcb-9bd3-4185-c24e-e8991006abc4"
      },
      "source": [
        "model.fit_generator(train_generator,epochs=10,validation_data=test_genertor,callbacks=[early_stop])"
      ],
      "execution_count": null,
      "outputs": [
        {
          "output_type": "stream",
          "text": [
            "Epoch 1/10\n",
            "402/402 [==============================] - 33s 83ms/step - loss: 0.0108 - val_loss: 4.1147e-05\n",
            "Epoch 2/10\n",
            "402/402 [==============================] - 34s 85ms/step - loss: 2.3900e-04 - val_loss: 4.9001e-05\n",
            "Epoch 3/10\n",
            "402/402 [==============================] - 33s 83ms/step - loss: 2.2816e-04 - val_loss: 2.5688e-05\n",
            "Epoch 4/10\n",
            "402/402 [==============================] - 34s 86ms/step - loss: 9.1864e-05 - val_loss: 2.0895e-05\n",
            "Epoch 5/10\n",
            "402/402 [==============================] - 33s 83ms/step - loss: 1.4112e-04 - val_loss: 7.3565e-05\n",
            "Epoch 6/10\n",
            "402/402 [==============================] - 34s 86ms/step - loss: 1.3193e-04 - val_loss: 2.7231e-06\n",
            "Epoch 7/10\n",
            "402/402 [==============================] - 34s 85ms/step - loss: 9.1650e-05 - val_loss: 2.9310e-07\n",
            "Epoch 8/10\n",
            "402/402 [==============================] - 36s 89ms/step - loss: 1.9772e-04 - val_loss: 5.4714e-06\n",
            "Epoch 9/10\n",
            "402/402 [==============================] - 36s 91ms/step - loss: 2.3988e-04 - val_loss: 1.1632e-05\n"
          ],
          "name": "stdout"
        },
        {
          "output_type": "execute_result",
          "data": {
            "text/plain": [
              "<tensorflow.python.keras.callbacks.History at 0x16936aa0608>"
            ]
          },
          "metadata": {
            "tags": []
          },
          "execution_count": 51
        }
      ]
    },
    {
      "cell_type": "code",
      "metadata": {
        "id": "N1rdYhD-352E",
        "colab_type": "code",
        "colab": {}
      },
      "source": [
        "losses=pd.DataFrame(model.history.history)"
      ],
      "execution_count": null,
      "outputs": []
    },
    {
      "cell_type": "code",
      "metadata": {
        "id": "LN86lhUF352G",
        "colab_type": "code",
        "colab": {},
        "outputId": "0c2f4c72-d0bf-4bcf-ec61-55de79b6105b"
      },
      "source": [
        "losses.plot()"
      ],
      "execution_count": null,
      "outputs": [
        {
          "output_type": "execute_result",
          "data": {
            "text/plain": [
              "<matplotlib.axes._subplots.AxesSubplot at 0x16938480148>"
            ]
          },
          "metadata": {
            "tags": []
          },
          "execution_count": 53
        },
        {
          "output_type": "display_data",
          "data": {
            "image/png": "[encoded data removed]",
            "text/plain": [
              "<Figure size 432x288 with 1 Axes>"
            ]
          },
          "metadata": {
            "tags": [],
            "needs_background": "light"
          }
        }
      ]
    },
    {
      "cell_type": "code",
      "metadata": {
        "id": "bQCSys03352I",
        "colab_type": "code",
        "colab": {}
      },
      "source": [
        "test_predictions=[]\n",
        "\n",
        "first_batch=scaled_train[-49:]\n",
        "current_batch=first_batch.reshape((1,49,1))\n",
        "\n",
        "for i in range(len(scaled_test)):\n",
        "    prediction=model.predict(current_batch)[0]\n",
        "    \n",
        "    test_predictions.append(prediction)\n",
        "\n",
        "    current_batch=np.append(current_batch[:,1:,:],[[prediction]],axis=1)\n",
        "\n",
        "\n",
        "\n",
        "\n",
        "\n",
        "\n",
        "\n",
        "\n",
        "\n",
        "\n",
        "\n",
        "\n",
        "\n",
        "\n",
        "\n"
      ],
      "execution_count": null,
      "outputs": []
    },
    {
      "cell_type": "code",
      "metadata": {
        "id": "XHgePTjF352K",
        "colab_type": "code",
        "colab": {}
      },
      "source": [
        "true_predictions=scaler.inverse_transform(test_predictions)"
      ],
      "execution_count": null,
      "outputs": []
    },
    {
      "cell_type": "code",
      "metadata": {
        "id": "-Jne72Q9352O",
        "colab_type": "code",
        "colab": {},
        "outputId": "bec63b62-f313-4d8b-c68b-e653934b9e4f"
      },
      "source": [
        "test.plot()"
      ],
      "execution_count": null,
      "outputs": [
        {
          "output_type": "execute_result",
          "data": {
            "text/plain": [
              "<matplotlib.axes._subplots.AxesSubplot at 0x1693a964908>"
            ]
          },
          "metadata": {
            "tags": []
          },
          "execution_count": 62
        },
        {
          "output_type": "display_data",
          "data": {
            "image/png": "[encoded data removed]",
            "text/plain": [
              "<Figure size 432x288 with 1 Axes>"
            ]
          },
          "metadata": {
            "tags": [],
            "needs_background": "light"
          }
        }
      ]
    },
    {
      "cell_type": "code",
      "metadata": {
        "id": "E-8PMRzh352Q",
        "colab_type": "code",
        "colab": {}
      },
      "source": [
        "###PREDICTING BRAND NEW DATA###"
      ],
      "execution_count": null,
      "outputs": []
    },
    {
      "cell_type": "code",
      "metadata": {
        "id": "MLRoBki9352R",
        "colab_type": "code",
        "colab": {}
      },
      "source": [
        "scaler_ful=MinMaxScaler()"
      ],
      "execution_count": null,
      "outputs": []
    },
    {
      "cell_type": "code",
      "metadata": {
        "id": "B-6ID17p352V",
        "colab_type": "code",
        "colab": {},
        "outputId": "c9835d07-997f-44e5-ed5b-fece0db59c88"
      },
      "source": [
        "scaler_ful.fit(df)"
      ],
      "execution_count": null,
      "outputs": [
        {
          "output_type": "execute_result",
          "data": {
            "text/plain": [
              "MinMaxScaler(copy=True, feature_range=(0, 1))"
            ]
          },
          "metadata": {
            "tags": []
          },
          "execution_count": 11
        }
      ]
    },
    {
      "cell_type": "code",
      "metadata": {
        "id": "2w7WNKNL352X",
        "colab_type": "code",
        "colab": {}
      },
      "source": [
        "scaled_ful_data=scaler_ful.transform(df)"
      ],
      "execution_count": null,
      "outputs": []
    },
    {
      "cell_type": "code",
      "metadata": {
        "id": "rovIYW91352Z",
        "colab_type": "code",
        "colab": {}
      },
      "source": [
        "from tensorflow.keras.preprocessing.sequence import TimeseriesGenerator "
      ],
      "execution_count": null,
      "outputs": []
    },
    {
      "cell_type": "code",
      "metadata": {
        "id": "-GftEzO1352d",
        "colab_type": "code",
        "colab": {}
      },
      "source": [
        "full_generator=TimeseriesGenerator(data=scaled_ful_data,targets=scaled_ful_data,length=50,batch_size=1)"
      ],
      "execution_count": null,
      "outputs": []
    },
    {
      "cell_type": "code",
      "metadata": {
        "id": "1I0LlZrg352e",
        "colab_type": "code",
        "colab": {}
      },
      "source": [
        "from tensorflow.keras.callbacks import EarlyStopping\n",
        "\n",
        "early_stop=EarlyStopping(monitor='loss',patience=2)"
      ],
      "execution_count": null,
      "outputs": []
    },
    {
      "cell_type": "code",
      "metadata": {
        "id": "o5k0SHuK352g",
        "colab_type": "code",
        "colab": {}
      },
      "source": [
        "from tensorflow.keras.models import Sequential \n",
        "from tensorflow.keras.layers import Dense,LSTM"
      ],
      "execution_count": null,
      "outputs": []
    },
    {
      "cell_type": "code",
      "metadata": {
        "id": "HDasIXWB352k",
        "colab_type": "code",
        "colab": {}
      },
      "source": [
        "full_model=Sequential()"
      ],
      "execution_count": null,
      "outputs": []
    },
    {
      "cell_type": "code",
      "metadata": {
        "id": "P1vXy3zc352n",
        "colab_type": "code",
        "colab": {}
      },
      "source": [
        "full_model.add(LSTM(50,input_shape=(50,1)))\n",
        "full_model.add(Dense(1))\n",
        "\n",
        "full_model.compile(optimizer='adam',loss='mse')"
      ],
      "execution_count": null,
      "outputs": []
    },
    {
      "cell_type": "code",
      "metadata": {
        "id": "tD1h33OP352q",
        "colab_type": "code",
        "colab": {},
        "outputId": "7cb3cb40-41eb-4086-d7db-4112da60cca0"
      },
      "source": [
        "full_model.fit_generator(full_generator,epochs=10,callbacks=[early_stop])"
      ],
      "execution_count": null,
      "outputs": [
        {
          "output_type": "stream",
          "text": [
            "Epoch 1/10\n",
            "451/451 [==============================] - 40s 89ms/step - loss: 0.0150\n",
            "Epoch 2/10\n",
            "451/451 [==============================] - 38s 85ms/step - loss: 0.0016\n",
            "Epoch 3/10\n",
            "451/451 [==============================] - 43s 96ms/step - loss: 3.7558e-05\n",
            "Epoch 4/10\n",
            "451/451 [==============================] - 42s 92ms/step - loss: 4.9353e-05\n",
            "Epoch 5/10\n",
            "451/451 [==============================] - 39s 87ms/step - loss: 3.4558e-05\n",
            "Epoch 6/10\n",
            "451/451 [==============================] - 40s 88ms/step - loss: 5.2261e-05\n",
            "Epoch 7/10\n",
            "451/451 [==============================] - 44s 98ms/step - loss: 5.4051e-05\n"
          ],
          "name": "stdout"
        },
        {
          "output_type": "execute_result",
          "data": {
            "text/plain": [
              "<tensorflow.python.keras.callbacks.History at 0x283b5bfd2c8>"
            ]
          },
          "metadata": {
            "tags": []
          },
          "execution_count": 20
        }
      ]
    },
    {
      "cell_type": "code",
      "metadata": {
        "id": "xO8eMPZM352t",
        "colab_type": "code",
        "colab": {},
        "outputId": "e5e685a1-8d4f-43d6-b7a9-b310f4d9afc1"
      },
      "source": [
        "pd.DataFrame(full_model.history.history).plot()"
      ],
      "execution_count": null,
      "outputs": [
        {
          "output_type": "execute_result",
          "data": {
            "text/plain": [
              "<matplotlib.axes._subplots.AxesSubplot at 0x283b6b9fbc8>"
            ]
          },
          "metadata": {
            "tags": []
          },
          "execution_count": 23
        },
        {
          "output_type": "display_data",
          "data": {
            "image/png": "[encoded data removed]",
            "text/plain": [
              "<Figure size 432x288 with 1 Axes>"
            ]
          },
          "metadata": {
            "tags": [],
            "needs_background": "light"
          }
        }
      ]
    },
    {
      "cell_type": "code",
      "metadata": {
        "id": "eYIJ10ZH352v",
        "colab_type": "code",
        "colab": {}
      },
      "source": [
        "full_forecast=[]\n",
        "\n",
        "first_batch=scaled_ful_data[-50:]\n",
        "batch_rescaled=first_batch.reshape((1,50,1))\n",
        "\n",
        "for i in range(25):\n",
        "    \n",
        "    prediction_fut=full_model.predict(batch_rescaled)[0]\n",
        "    full_forecast.append(prediction_fut)\n",
        "    batch_rescaled=np.append(batch_rescaled[:,1:,:],[[prediction_fut]],axis=1)"
      ],
      "execution_count": null,
      "outputs": []
    },
    {
      "cell_type": "code",
      "metadata": {
        "id": "S6dgNZYw352x",
        "colab_type": "code",
        "colab": {}
      },
      "source": [
        "full_forecast=scaler_ful.inverse_transform(full_forecast)"
      ],
      "execution_count": null,
      "outputs": []
    },
    {
      "cell_type": "code",
      "metadata": {
        "id": "VY7qLoZO352z",
        "colab_type": "code",
        "colab": {}
      },
      "source": [
        "df1=pd.DataFrame(full_forecast,index=np.arange(50.1,52.6,0.1))"
      ],
      "execution_count": null,
      "outputs": []
    },
    {
      "cell_type": "code",
      "metadata": {
        "id": "P241PFvx3524",
        "colab_type": "code",
        "colab": {},
        "outputId": "3f14c859-ebbf-4a4c-89da-574d20cb9d46"
      },
      "source": [
        "plt.plot(df)\n",
        "plt.plot(df1)"
      ],
      "execution_count": null,
      "outputs": [
        {
          "output_type": "execute_result",
          "data": {
            "text/plain": [
              "[<matplotlib.lines.Line2D at 0x283bcd47f88>]"
            ]
          },
          "metadata": {
            "tags": []
          },
          "execution_count": 61
        },
        {
          "output_type": "display_data",
          "data": {
            "image/png": "[encoded data removed]",
            "text/plain": [
              "<Figure size 432x288 with 1 Axes>"
            ]
          },
          "metadata": {
            "tags": [],
            "needs_background": "light"
          }
        }
      ]
    },
    {
      "cell_type": "code",
      "metadata": {
        "id": "vZO-TL8s3526",
        "colab_type": "code",
        "colab": {},
        "outputId": "7aab19f5-3fbc-4832-9ccd-43736760773d"
      },
      "source": [
        "len(full_forecast)"
      ],
      "execution_count": null,
      "outputs": [
        {
          "output_type": "execute_result",
          "data": {
            "text/plain": [
              "25"
            ]
          },
          "metadata": {
            "tags": []
          },
          "execution_count": 40
        }
      ]
    },
    {
      "cell_type": "code",
      "metadata": {
        "id": "Qr6uAKPQ3528",
        "colab_type": "code",
        "colab": {},
        "outputId": "785d2f15-8674-4c7c-bdad-e8741bef9739"
      },
      "source": [
        "50.1+ 25*0.1"
      ],
      "execution_count": null,
      "outputs": [
        {
          "output_type": "execute_result",
          "data": {
            "text/plain": [
              "52.6"
            ]
          },
          "metadata": {
            "tags": []
          },
          "execution_count": 41
        }
      ]
    },
    {
      "cell_type": "code",
      "metadata": {
        "id": "YOJEUQet352-",
        "colab_type": "code",
        "colab": {},
        "outputId": "bfb33a4a-d6d5-4c81-f9fb-d58e07e6879a"
      },
      "source": [
        "df\n"
      ],
      "execution_count": null,
      "outputs": [
        {
          "output_type": "execute_result",
          "data": {
            "text/html": [
              "<div>\n",
              "<style scoped>\n",
              "    .dataframe tbody tr th:only-of-type {\n",
              "        vertical-align: middle;\n",
              "    }\n",
              "\n",
              "    .dataframe tbody tr th {\n",
              "        vertical-align: top;\n",
              "    }\n",
              "\n",
              "    .dataframe thead th {\n",
              "        text-align: right;\n",
              "    }\n",
              "</style>\n",
              "<table border=\"1\" class=\"dataframe\">\n",
              "  <thead>\n",
              "    <tr style=\"text-align: right;\">\n",
              "      <th></th>\n",
              "      <th>Sine Value</th>\n",
              "    </tr>\n",
              "  </thead>\n",
              "  <tbody>\n",
              "    <tr>\n",
              "      <th>0.0</th>\n",
              "      <td>0.000000</td>\n",
              "    </tr>\n",
              "    <tr>\n",
              "      <th>0.1</th>\n",
              "      <td>0.099833</td>\n",
              "    </tr>\n",
              "    <tr>\n",
              "      <th>0.2</th>\n",
              "      <td>0.198669</td>\n",
              "    </tr>\n",
              "    <tr>\n",
              "      <th>0.3</th>\n",
              "      <td>0.295520</td>\n",
              "    </tr>\n",
              "    <tr>\n",
              "      <th>0.4</th>\n",
              "      <td>0.389418</td>\n",
              "    </tr>\n",
              "    <tr>\n",
              "      <th>...</th>\n",
              "      <td>...</td>\n",
              "    </tr>\n",
              "    <tr>\n",
              "      <th>49.6</th>\n",
              "      <td>-0.617439</td>\n",
              "    </tr>\n",
              "    <tr>\n",
              "      <th>49.7</th>\n",
              "      <td>-0.535823</td>\n",
              "    </tr>\n",
              "    <tr>\n",
              "      <th>49.8</th>\n",
              "      <td>-0.448854</td>\n",
              "    </tr>\n",
              "    <tr>\n",
              "      <th>49.9</th>\n",
              "      <td>-0.357400</td>\n",
              "    </tr>\n",
              "    <tr>\n",
              "      <th>50.0</th>\n",
              "      <td>-0.262375</td>\n",
              "    </tr>\n",
              "  </tbody>\n",
              "</table>\n",
              "<p>501 rows × 1 columns</p>\n",
              "</div>"
            ],
            "text/plain": [
              "      Sine Value\n",
              "0.0     0.000000\n",
              "0.1     0.099833\n",
              "0.2     0.198669\n",
              "0.3     0.295520\n",
              "0.4     0.389418\n",
              "...          ...\n",
              "49.6   -0.617439\n",
              "49.7   -0.535823\n",
              "49.8   -0.448854\n",
              "49.9   -0.357400\n",
              "50.0   -0.262375\n",
              "\n",
              "[501 rows x 1 columns]"
            ]
          },
          "metadata": {
            "tags": []
          },
          "execution_count": 62
        }
      ]
    },
    {
      "cell_type": "code",
      "metadata": {
        "id": "dFtKOCGc353A",
        "colab_type": "code",
        "colab": {},
        "outputId": "0ceb062f-b245-41fd-b5f4-b52d662bc1c0"
      },
      "source": [
        "df1"
      ],
      "execution_count": null,
      "outputs": [
        {
          "output_type": "execute_result",
          "data": {
            "text/html": [
              "<div>\n",
              "<style scoped>\n",
              "    .dataframe tbody tr th:only-of-type {\n",
              "        vertical-align: middle;\n",
              "    }\n",
              "\n",
              "    .dataframe tbody tr th {\n",
              "        vertical-align: top;\n",
              "    }\n",
              "\n",
              "    .dataframe thead th {\n",
              "        text-align: right;\n",
              "    }\n",
              "</style>\n",
              "<table border=\"1\" class=\"dataframe\">\n",
              "  <thead>\n",
              "    <tr style=\"text-align: right;\">\n",
              "      <th></th>\n",
              "      <th>0</th>\n",
              "    </tr>\n",
              "  </thead>\n",
              "  <tbody>\n",
              "    <tr>\n",
              "      <th>50.1</th>\n",
              "      <td>-0.170042</td>\n",
              "    </tr>\n",
              "    <tr>\n",
              "      <th>50.2</th>\n",
              "      <td>-0.072892</td>\n",
              "    </tr>\n",
              "    <tr>\n",
              "      <th>50.3</th>\n",
              "      <td>0.024648</td>\n",
              "    </tr>\n",
              "    <tr>\n",
              "      <th>50.4</th>\n",
              "      <td>0.121542</td>\n",
              "    </tr>\n",
              "    <tr>\n",
              "      <th>50.5</th>\n",
              "      <td>0.216745</td>\n",
              "    </tr>\n",
              "    <tr>\n",
              "      <th>50.6</th>\n",
              "      <td>0.309194</td>\n",
              "    </tr>\n",
              "    <tr>\n",
              "      <th>50.7</th>\n",
              "      <td>0.397830</td>\n",
              "    </tr>\n",
              "    <tr>\n",
              "      <th>50.8</th>\n",
              "      <td>0.481603</td>\n",
              "    </tr>\n",
              "    <tr>\n",
              "      <th>50.9</th>\n",
              "      <td>0.559495</td>\n",
              "    </tr>\n",
              "    <tr>\n",
              "      <th>51.0</th>\n",
              "      <td>0.630533</td>\n",
              "    </tr>\n",
              "    <tr>\n",
              "      <th>51.1</th>\n",
              "      <td>0.693804</td>\n",
              "    </tr>\n",
              "    <tr>\n",
              "      <th>51.2</th>\n",
              "      <td>0.748478</td>\n",
              "    </tr>\n",
              "    <tr>\n",
              "      <th>51.3</th>\n",
              "      <td>0.793821</td>\n",
              "    </tr>\n",
              "    <tr>\n",
              "      <th>51.4</th>\n",
              "      <td>0.829212</td>\n",
              "    </tr>\n",
              "    <tr>\n",
              "      <th>51.5</th>\n",
              "      <td>0.854163</td>\n",
              "    </tr>\n",
              "    <tr>\n",
              "      <th>51.6</th>\n",
              "      <td>0.868324</td>\n",
              "    </tr>\n",
              "    <tr>\n",
              "      <th>51.7</th>\n",
              "      <td>0.871495</td>\n",
              "    </tr>\n",
              "    <tr>\n",
              "      <th>51.8</th>\n",
              "      <td>0.863626</td>\n",
              "    </tr>\n",
              "    <tr>\n",
              "      <th>51.9</th>\n",
              "      <td>0.844814</td>\n",
              "    </tr>\n",
              "    <tr>\n",
              "      <th>52.0</th>\n",
              "      <td>0.815296</td>\n",
              "    </tr>\n",
              "    <tr>\n",
              "      <th>52.1</th>\n",
              "      <td>0.775440</td>\n",
              "    </tr>\n",
              "    <tr>\n",
              "      <th>52.2</th>\n",
              "      <td>0.725728</td>\n",
              "    </tr>\n",
              "    <tr>\n",
              "      <th>52.3</th>\n",
              "      <td>0.666743</td>\n",
              "    </tr>\n",
              "    <tr>\n",
              "      <th>52.4</th>\n",
              "      <td>0.599160</td>\n",
              "    </tr>\n",
              "    <tr>\n",
              "      <th>52.5</th>\n",
              "      <td>0.523732</td>\n",
              "    </tr>\n",
              "  </tbody>\n",
              "</table>\n",
              "</div>"
            ],
            "text/plain": [
              "             0\n",
              "50.1 -0.170042\n",
              "50.2 -0.072892\n",
              "50.3  0.024648\n",
              "50.4  0.121542\n",
              "50.5  0.216745\n",
              "50.6  0.309194\n",
              "50.7  0.397830\n",
              "50.8  0.481603\n",
              "50.9  0.559495\n",
              "51.0  0.630533\n",
              "51.1  0.693804\n",
              "51.2  0.748478\n",
              "51.3  0.793821\n",
              "51.4  0.829212\n",
              "51.5  0.854163\n",
              "51.6  0.868324\n",
              "51.7  0.871495\n",
              "51.8  0.863626\n",
              "51.9  0.844814\n",
              "52.0  0.815296\n",
              "52.1  0.775440\n",
              "52.2  0.725728\n",
              "52.3  0.666743\n",
              "52.4  0.599160\n",
              "52.5  0.523732"
            ]
          },
          "metadata": {
            "tags": []
          },
          "execution_count": 63
        }
      ]
    },
    {
      "cell_type": "code",
      "metadata": {
        "id": "qcNHYgcU353E",
        "colab_type": "code",
        "colab": {}
      },
      "source": [
        ""
      ],
      "execution_count": null,
      "outputs": []
    }
  ]
}